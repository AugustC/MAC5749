{
 "cells": [
  {
   "cell_type": "markdown",
   "metadata": {},
   "source": [
    "# Loading and visualizing the MPEG-7 Dataset\n",
    "\n",
    "This example demonstrates how to load and visualize the MPEG-7 dataset (packaged with this library)."
   ]
  },
  {
   "cell_type": "markdown",
   "metadata": {},
   "source": [
    "### Importing libraries and setting up IPython Notebook"
   ]
  },
  {
   "cell_type": "code",
   "execution_count": 1,
   "metadata": {},
   "outputs": [],
   "source": [
    "import sys\n",
    "import matplotlib.pyplot as plt\n",
    "\n",
    "from ipywidgets import interact, interactive, fixed, interact_manual\n",
    "from IPython.display import display\n",
    "import ipywidgets as widgets\n",
    "\n",
    "sys.path.append('../') # Setting the notebook path to include the sarpy lib\n",
    "from sarpy.datasets import load_mpeg7\n",
    "\n",
    "%matplotlib inline"
   ]
  },
  {
   "cell_type": "markdown",
   "metadata": {},
   "source": [
    "### Fetching dataset"
   ]
  },
  {
   "cell_type": "code",
   "execution_count": 2,
   "metadata": {},
   "outputs": [],
   "source": [
    "# Fetch images from dataset\n",
    "dataset = load_mpeg7()"
   ]
  },
  {
   "cell_type": "markdown",
   "metadata": {},
   "source": [
    "### Defining the image plotting function"
   ]
  },
  {
   "cell_type": "code",
   "execution_count": 3,
   "metadata": {},
   "outputs": [],
   "source": [
    "def plot_images(page):\n",
    "    # Setting size of plot\n",
    "    plt.figure(figsize=(2. * n_cols, 2.26 * n_rows))\n",
    "    \n",
    "    # Plotting each image with their class as title\n",
    "    for i in range (0, n_rows):\n",
    "        for j in range (0, n_cols):\n",
    "            if(i*n_cols + j + page*n_cols*n_rows < len(dataset['bitmaps'])):\n",
    "                ax = plt.subplot(n_rows,n_cols,i*n_cols + j + 1)\n",
    "                ax.imshow(dataset['bitmaps'][i*n_cols + j + page*n_cols*n_rows], cmap='gray')\n",
    "                ax.set_title(dataset['targets'][i*n_cols + j + page*n_cols*n_rows])\n",
    "                ax.axis('off')\n",
    "\n",
    "    plt.show()"
   ]
  },
  {
   "cell_type": "markdown",
   "metadata": {},
   "source": [
    "### Running the display widget"
   ]
  },
  {
   "cell_type": "code",
   "execution_count": 4,
   "metadata": {},
   "outputs": [
    {
     "data": {
      "image/png": "[encoded data removed]",
      "text/plain": [
       "<matplotlib.figure.Figure at 0x7f74ba32a240>"
      ]
     },
     "metadata": {},
     "output_type": "display_data"
    }
   ],
   "source": [
    "# Interactively scroll through the pages to see more images\n",
    "n_rows, n_cols = 4, 10\n",
    "   \n",
    "pages = widgets.IntSlider(min=0, max=len(dataset['bitmaps'])/(n_cols * n_rows), step=1, value=0)\n",
    "interact(plot_images, page=pages);"
   ]
  }
 ],
 "metadata": {
  "kernelspec": {
   "display_name": "Python 3",
   "language": "python",
   "name": "python3"
  },
  "language_info": {
   "codemirror_mode": {
    "name": "ipython",
    "version": 3
   },
   "file_extension": ".py",
   "mimetype": "text/x-python",
   "name": "python",
   "nbconvert_exporter": "python",
   "pygments_lexer": "ipython3",
   "version": "3.6.2"
  }
 },
 "nbformat": 4,
 "nbformat_minor": 2
}
