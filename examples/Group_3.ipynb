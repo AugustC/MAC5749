{
 "cells": [
  {
   "cell_type": "markdown",
   "metadata": {},
   "source": [
    "# MAC5749 - Shape Analysis Course at IME-USP, Brazil\n",
    "\n",
    "## Examples - Group 3\n",
    "\n",
    "The point of this example is to illustrate how to import LEAF database and visulize dataset.\n",
    "\n",
    "Original LEAF dataset link: https://www.kaggle.com/c/leaf-classification\n",
    "\n",
    "Original Fashion MNIST dataset link: https://github.com/zalandoresearch/fashion-mnist"
   ]
  },
  {
   "cell_type": "markdown",
   "metadata": {},
   "source": [
    "## Importing Libraries"
   ]
  },
  {
   "cell_type": "code",
   "execution_count": 1,
   "metadata": {},
   "outputs": [
    {
     "ename": "ImportError",
     "evalue": "cannot import name 'load_mnist'",
     "output_type": "error",
     "traceback": [
      "\u001b[0;31m---------------------------------------------------------------------------\u001b[0m",
      "\u001b[0;31mImportError\u001b[0m                               Traceback (most recent call last)",
      "\u001b[0;32m<ipython-input-1-99c0b244676c>\u001b[0m in \u001b[0;36m<module>\u001b[0;34m()\u001b[0m\n\u001b[1;32m      4\u001b[0m \u001b[0;34m\u001b[0m\u001b[0m\n\u001b[1;32m      5\u001b[0m \u001b[0msys\u001b[0m\u001b[0;34m.\u001b[0m\u001b[0mpath\u001b[0m\u001b[0;34m.\u001b[0m\u001b[0mappend\u001b[0m\u001b[0;34m(\u001b[0m\u001b[0;34m'../'\u001b[0m\u001b[0;34m)\u001b[0m \u001b[0;31m# Setting the notebook path to include the sarpy lib\u001b[0m\u001b[0;34m\u001b[0m\u001b[0m\n\u001b[0;32m----> 6\u001b[0;31m \u001b[0;32mfrom\u001b[0m \u001b[0msarpy\u001b[0m\u001b[0;34m.\u001b[0m\u001b[0mdatasets\u001b[0m \u001b[0;32mimport\u001b[0m \u001b[0mload_leaf\u001b[0m\u001b[0;34m,\u001b[0m \u001b[0mload_fashion_mnist\u001b[0m\u001b[0;34m\u001b[0m\u001b[0m\n\u001b[0m\u001b[1;32m      7\u001b[0m \u001b[0mget_ipython\u001b[0m\u001b[0;34m(\u001b[0m\u001b[0;34m)\u001b[0m\u001b[0;34m.\u001b[0m\u001b[0mmagic\u001b[0m\u001b[0;34m(\u001b[0m\u001b[0;34m'matplotlib inline'\u001b[0m\u001b[0;34m)\u001b[0m\u001b[0;34m\u001b[0m\u001b[0m\n",
      "\u001b[0;32m/Users/eduardolopes/workspace/MAC5749/sarpy/datasets/__init__.py\u001b[0m in \u001b[0;36m<module>\u001b[0;34m()\u001b[0m\n\u001b[1;32m      5\u001b[0m \"\"\"\n\u001b[1;32m      6\u001b[0m \u001b[0;34m\u001b[0m\u001b[0m\n\u001b[0;32m----> 7\u001b[0;31m \u001b[0;32mfrom\u001b[0m \u001b[0;34m.\u001b[0m\u001b[0mdatasets\u001b[0m \u001b[0;32mimport\u001b[0m \u001b[0mload_mpeg7\u001b[0m\u001b[0;34m,\u001b[0m \u001b[0mload_mnist\u001b[0m\u001b[0;34m,\u001b[0m \u001b[0mload_nist\u001b[0m\u001b[0;34m,\u001b[0m \u001b[0mload_leaf\u001b[0m\u001b[0;34m,\u001b[0m \u001b[0mload_fashion_mnist\u001b[0m\u001b[0;34m\u001b[0m\u001b[0m\n\u001b[0m\u001b[1;32m      8\u001b[0m \u001b[0;34m\u001b[0m\u001b[0m\n\u001b[1;32m      9\u001b[0m \u001b[0m__all__\u001b[0m \u001b[0;34m=\u001b[0m \u001b[0;34m[\u001b[0m\u001b[0;34m'load_mpeg7'\u001b[0m\u001b[0;34m,\u001b[0m \u001b[0;34m'load_mnist'\u001b[0m\u001b[0;34m,\u001b[0m \u001b[0;34m'load_nist'\u001b[0m\u001b[0;34m,\u001b[0m \u001b[0;34m'load_leaf'\u001b[0m\u001b[0;34m,\u001b[0m \u001b[0;34m'load_fashion_mnist'\u001b[0m\u001b[0;34m]\u001b[0m\u001b[0;34m\u001b[0m\u001b[0m\n",
      "\u001b[0;31mImportError\u001b[0m: cannot import name 'load_mnist'"
     ]
    }
   ],
   "source": [
    "import sys\n",
    "import numpy as np\n",
    "import matplotlib.pyplot as plt\n",
    "\n",
    "sys.path.append('../') # Setting the notebook path to include the sarpy lib\n",
    "from sarpy.datasets import load_leaf, load_fashion_mnist\n",
    "%matplotlib inline"
   ]
  },
  {
   "cell_type": "markdown",
   "metadata": {},
   "source": [
    "## Importing Dataset"
   ]
  },
  {
   "cell_type": "code",
   "execution_count": null,
   "metadata": {},
   "outputs": [],
   "source": [
    "dataset = load_leaf()\n",
    "dataset_2 = load_fashion_mnist()"
   ]
  },
  {
   "cell_type": "markdown",
   "metadata": {},
   "source": [
    "## Data Preparation"
   ]
  },
  {
   "cell_type": "code",
   "execution_count": null,
   "metadata": {
    "collapsed": true
   },
   "outputs": [],
   "source": [
    "def plot_images():\n",
    "    # Setting size of plot\n",
    "    plt.figure(figsize=(2. * n_cols, 2.26 * n_rows))\n",
    "    \n",
    "    # Plotting each image with their class as title\n",
    "    for j in range (0, n_cols):\n",
    "        # Get first ten classes index\n",
    "        index = np.where(dataset['targets'] == j)[0]\n",
    "        for i in range (0, n_rows):\n",
    "            ax = plt.subplot(n_rows,n_cols,i*n_cols + j + 1)\n",
    "            ax.imshow(dataset['bitmaps'][index[i]], cmap='gray')\n",
    "            ax.axis('off')\n",
    "\n",
    "    plt.show()\n",
    "    \n",
    "def plot_images_2():\n",
    "    # Setting size of plot\n",
    "    plt.figure(figsize=(2. * n_cols, 2.26 * n_rows))\n",
    "    \n",
    "    # Plotting each image with their class as title\n",
    "    for j in range (0, n_cols):\n",
    "        # Get first ten classes index\n",
    "        index = np.where(dataset_2['targets'] == j)[0]\n",
    "        for i in range (0, n_rows):\n",
    "            ax = plt.subplot(n_rows,n_cols,i*n_cols + j + 1)\n",
    "            ax.imshow(dataset_2['bitmaps'][index[i]], cmap='gray')\n",
    "            ax.axis('off')\n",
    "\n",
    "    plt.show()    "
   ]
  },
  {
   "cell_type": "markdown",
   "metadata": {},
   "source": [
    "## Visualizing Examples"
   ]
  },
  {
   "cell_type": "code",
   "execution_count": null,
   "metadata": {},
   "outputs": [],
   "source": [
    "# Display first 10 classes of images\n",
    "n_rows, n_cols = 5, 10\n",
    "plot_images()\n",
    "plot_images_2()"
   ]
  },
  {
   "cell_type": "markdown",
   "metadata": {},
   "source": [
    "## Extracting contours"
   ]
  },
  {
   "cell_type": "code",
   "execution_count": null,
   "metadata": {},
   "outputs": [],
   "source": [
    "from sarpy.extractContours import contour_image\n",
    "\n",
    "img_example = dataset['bitmaps'][30]\n",
    "plt.imshow(img_example, cmap = 'gray')"
   ]
  },
  {
   "cell_type": "code",
   "execution_count": null,
   "metadata": {},
   "outputs": [],
   "source": [
    "plt.imshow(contour_image(img_example), cmap = 'gray')"
   ]
  },
  {
   "cell_type": "code",
   "execution_count": null,
   "metadata": {},
   "outputs": [],
   "source": [
    "img_example = dataset_2['bitmaps'][30]\n",
    "plt.imshow(img_example, cmap = 'gray')"
   ]
  },
  {
   "cell_type": "code",
   "execution_count": null,
   "metadata": {},
   "outputs": [],
   "source": [
    "plt.imshow(contour_image(img_example), cmap = 'gray')"
   ]
  },
  {
   "cell_type": "code",
   "execution_count": null,
   "metadata": {
    "collapsed": true
   },
   "outputs": [],
   "source": []
  }
 ],
 "metadata": {
  "kernelspec": {
   "display_name": "Python 3",
   "language": "python",
   "name": "python3"
  },
  "language_info": {
   "codemirror_mode": {
    "name": "ipython",
    "version": 3
   },
   "file_extension": ".py",
   "mimetype": "text/x-python",
   "name": "python",
   "nbconvert_exporter": "python",
   "pygments_lexer": "ipython3",
   "version": "3.6.1"
  }
 },
 "nbformat": 4,
 "nbformat_minor": 2
}
