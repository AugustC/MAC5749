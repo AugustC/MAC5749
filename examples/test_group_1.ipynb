{
 "cells": [
  {
   "cell_type": "markdown",
   "metadata": {},
   "source": [
    "    \n",
    "# Test group 1 Database NIST\n",
    "Special Database 19 contains NIST's entire corpus of training materials for handprinted document and character recognition.\n",
    "\n",
    "\n",
    "# Load database \n",
    "   - load_nist()"
   ]
  },
  {
   "cell_type": "code",
   "execution_count": 5,
   "metadata": {},
   "outputs": [
    {
     "name": "stdout",
     "output_type": "stream",
     "text": [
      "6200 images\n",
      "62 class\n",
      "----------------------------\n",
      "The autoreload extension is already loaded. To reload it, use:\n",
      "  %reload_ext autoreload\n"
     ]
    }
   ],
   "source": [
    "import sys\n",
    "sys.path.append('../')\n",
    "import sarpy.binaryScale \n",
    "import skimage.io as skio\n",
    "import numpy as np\n",
    "import matplotlib.pyplot as plt\n",
    "from sarpy.datasets import *\n",
    "from sarpy import *\n",
    "\n",
    "dataset = load_nist()\n",
    "print(len(dataset['bitmaps']), \"images\")\n",
    "print(len(dataset['names']), \"class\")\n",
    "print(\"----------------------------\");\n",
    "\n",
    "%load_ext autoreload\n",
    "%autoreload 2"
   ]
  },
  {
   "cell_type": "markdown",
   "metadata": {},
   "source": [
    "# Shape scale\n",
    "- sarpy.binaryScale.shapeScale"
   ]
  },
  {
   "cell_type": "code",
   "execution_count": 2,
   "metadata": {},
   "outputs": [
    {
     "data": {
      "image/png": "[encoded data removed]",
      "text/plain": [
       "<matplotlib.figure.Figure at 0x6d5339799cf8>"
      ]
     },
     "metadata": {},
     "output_type": "display_data"
    }
   ],
   "source": [
    "def visualize(data,nclass):\n",
    "    plt.rcParams[\"figure.figsize\"] = [10,3]    \n",
    "    x = 5;\n",
    "    y = nclass\n",
    "    fig, axes = plt.subplots(y,x)\n",
    "    k = i = j = 0\n",
    "    idx = 0;\n",
    "    for char in data:\n",
    "        idx = 0\n",
    "        for sc in [4,2,1,0.8,0.5]:\n",
    "            axes[i,idx].axis('off')\n",
    "            axes[i,idx].imshow(sarpy.binaryScale.shapeScale(char,sc,(char.shape[0]/2,char.shape[1]/2)),cmap='gray')\n",
    "            idx+=1\n",
    "        i = i + 1        \n",
    "        \n",
    "    plt.show()\n",
    "\n",
    "visualize(dataset['bitmaps'][::6000],len(dataset['bitmaps'][::6000]))"
   ]
  },
  {
   "cell_type": "markdown",
   "metadata": {},
   "source": [
    "# Contour functions\n",
    "\n",
    "- plotContour(aContour)\n",
    "- plotContour1D(aContour)\n",
    "- contour2bm(aContour)"
   ]
  },
  {
   "cell_type": "code",
   "execution_count": 6,
   "metadata": {
    "collapsed": true
   },
   "outputs": [],
   "source": [
    "aContour = np.array([[0,2,2],[1,1,3],[2,1,4],[3,1,5],\n",
    "                     [4,2,6],[5,3,5],[6,4,5],[7,5,6],\n",
    "                     [8,6,5],[9,6,4],[10,6,3],[11,5,2],\n",
    "                     [12,4,1],[13,3,1],[14,2,2]]);"
   ]
  },
  {
   "cell_type": "code",
   "execution_count": 9,
   "metadata": {
    "scrolled": true
   },
   "outputs": [
    {
     "data": {
      "image/png": "[encoded data removed]",
      "text/plain": [
       "<matplotlib.figure.Figure at 0x6d53393bff60>"
      ]
     },
     "metadata": {},
     "output_type": "display_data"
    }
   ],
   "source": [
    "from sarpy import plotContour\n",
    "sarpy.plotContour.plotContour(aContour)"
   ]
  },
  {
   "cell_type": "code",
   "execution_count": 13,
   "metadata": {},
   "outputs": [
    {
     "data": {
      "image/png": "[encoded data removed]",
      "text/plain": [
       "<matplotlib.figure.Figure at 0x6d53395ec518>"
      ]
     },
     "metadata": {},
     "output_type": "display_data"
    }
   ],
   "source": [
    "from sarpy import plotContour1D\n",
    "sarpy.plotContour1D.plotContour1D(aContour)"
   ]
  },
  {
   "cell_type": "code",
   "execution_count": 14,
   "metadata": {},
   "outputs": [
    {
     "name": "stdout",
     "output_type": "stream",
     "text": [
      "[[0 0 0 0 0 0 0]\n",
      " [0 0 0 1 1 0 0]\n",
      " [0 0 1 0 0 1 0]\n",
      " [0 1 0 0 0 0 1]\n",
      " [0 1 0 0 0 0 1]\n",
      " [0 1 0 1 1 0 1]\n",
      " [0 0 1 0 0 1 0]]\n"
     ]
    }
   ],
   "source": [
    "from sarpy import plotContour\n",
    "print(sarpy.plotContour.contour2bm(aContour))"
   ]
  },
  {
   "cell_type": "code",
   "execution_count": null,
   "metadata": {
    "collapsed": true
   },
   "outputs": [],
   "source": [
    "dataset = 0"
   ]
  }
 ],
 "metadata": {
  "kernelspec": {
   "display_name": "Python 3",
   "language": "python",
   "name": "python3"
  },
  "language_info": {
   "codemirror_mode": {
    "name": "ipython",
    "version": 3
   },
   "file_extension": ".py",
   "mimetype": "text/x-python",
   "name": "python",
   "nbconvert_exporter": "python",
   "pygments_lexer": "ipython3",
   "version": "3.6.2"
  }
 },
 "nbformat": 4,
 "nbformat_minor": 2
}
