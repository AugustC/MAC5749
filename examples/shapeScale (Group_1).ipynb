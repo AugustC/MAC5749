{
 "cells": [
  {
   "cell_type": "markdown",
   "metadata": {},
   "source": [
    "# shapeScale\n",
    "\n",
    "*sarpy*.shapeScale(img, c, center=(0,0))\n",
    "\n",
    "Scale image by a certain factor.\n",
    "    \n",
    "Parameters:\n",
    "\n",
    "* img: ndarray\n",
    "  - Input binary image\n",
    "    \n",
    "    \n",
    "* c: {float, tuple of floats}\n",
    "   - Scale factors. Separate factors can be defined as (row_scale, col_scale)\n",
    "    \n",
    "    \n",
    "* center: tuple of ints, optional\n",
    "   - (x,y)-coordinates of the center of the image\n",
    "\n",
    "Returns:\n",
    "\n",
    "* g: ndarray\n",
    "    - Scaled version of the input image\n",
    "    \n",
    "# Example"
   ]
  },
  {
   "cell_type": "code",
   "execution_count": 5,
   "metadata": {
    "collapsed": false
   },
   "outputs": [
    {
     "data": {
      "image/png": "[encoded data removed]",
      "text/plain": [
       "<matplotlib.figure.Figure at 0x7f225a6eeb00>"
      ]
     },
     "metadata": {},
     "output_type": "display_data"
    },
    {
     "data": {
      "image/png": "[encoded data removed]",
      "text/plain": [
       "<matplotlib.figure.Figure at 0x7f225a6ae470>"
      ]
     },
     "metadata": {},
     "output_type": "display_data"
    }
   ],
   "source": [
    "import sys\n",
    "sys.path.append('../')\n",
    "import sarpy.binaryScale \n",
    "import skimage.io as skio\n",
    "from sarpy.datasets import load_mpeg7\n",
    "\n",
    "dataset = load_mpeg7()\n",
    "f = dataset['bitmaps'][0]\n",
    "skio.imshow(f)\n",
    "skio.show()\n",
    "skio.imshow(sarpy.binaryScale.shapeScale(f, 2, center=(128,128)))\n",
    "skio.show()"
   ]
  }
 ],
 "metadata": {
  "kernelspec": {
   "display_name": "Python 3",
   "language": "python",
   "name": "python3"
  },
  "language_info": {
   "codemirror_mode": {
    "name": "ipython",
    "version": 3
   },
   "file_extension": ".py",
   "mimetype": "text/x-python",
   "name": "python",
   "nbconvert_exporter": "python",
   "pygments_lexer": "ipython3",
   "version": "3.6.0"
  }
 },
 "nbformat": 4,
 "nbformat_minor": 2
}
